{
  "metadata": {
    "kernelspec": {
      "name": "python",
      "display_name": "Python (Pyodide)",
      "language": "python"
    },
    "language_info": {
      "codemirror_mode": {
        "name": "python",
        "version": 3
      },
      "file_extension": ".py",
      "mimetype": "text/x-python",
      "name": "python",
      "nbconvert_exporter": "python",
      "pygments_lexer": "ipython3",
      "version": "3.8"
    }
  },
  "nbformat_minor": 5,
  "nbformat": 4,
  "cells": [
    {
      "id": "68b2f0e0-6c8b-4b6b-bfec-7594b4b6c058",
      "cell_type": "markdown",
      "source": "# 3. 힙, 생일 데이터 출력, 10명",
      "metadata": {}
    },
    {
      "id": "02d286a3-2ec1-4e7b-a8e7-f6035b52f3c6",
      "cell_type": "code",
      "source": "import csv\n\nclass Heap:\n    def __init__(self,*args):\n        if len(args) !=0:\n            self.__A=args[0]\n\n        else:\n            self.__A=[]\n\n    def insert(self,x):\n        self.__A.append(x)\n        self.__percolateUp(len(self.__A)-1)\n\n    def __percolateUp(self,i):\n        parent=(i-1)//2\n        if i>0 and self.__A[i]>self.__A[parent]:\n            self.__A[i], self.__A[parent]=self.__A[parent],self.__A[i]\n            self.__percolateUp(parent)\n\n    def deleteMax(self):\n        if (not self.isEmpty()):\n            max=self.__A[0]\n            self.__A[0]=self.__A.pop()\n            self.__percolateDown(0)\n            return max\n        else:\n            return None\n\n    def __percolateDown(self,i):\n        child=2*i+1\n        right=2*i+2\n        if (child<=len(self.__A)-1):\n            if(right<=len(self.__A)-1 and self.__A[child]<self.__A[right]):\n                child=right\n            if self.__A[i]<self.__A[child]:\n                self.__A[i], self.__A[child]=self.__A[child], self.__A[i]\n                self.__percolateDown(child)\n\n    def max(self):\n        return self.__A[0]\n\n    def buildHeap(self):\n        for i in range((len(self.__A)-2)//2,-1,-1):\n            self.__percolateDown(i)\n\n    def isEmpty(self)-> bool:\n        return len(self.__A)==0\n\n    def clear(self):\n        self.__A=[]\n\n    def size(self)->int:\n        return len(self.__A)\n\n\nif __name__==\"__main__\":\n    heap=Heap()\n\n    with open(\"Birthdaydata.csv\",newline='',encoding='cp949') as csvfile:\n        reader = csv.reader(csvfile)\n        next(reader)\n        for row in reader:\n            student_id, name, birth_str=row\n            if birth_str.strip():\n                try:\n                    birth_int=int(birth_str)\n                    heap.insert((birth_int,name,birth_str))\n                except ValueError:\n                    continue\n\n    print(\"생일이 느린 순서로 10명\")\n    for i in range(10):\n        if not heap.isEmpty():\n            neg_birth, name, birth_str=heap.deleteMax()\n            print(f\"{i+1}.{name}-{birth_str}\")",
      "metadata": {
        "trusted": true
      },
      "outputs": [],
      "execution_count": null
    },
    {
      "id": "37eaa85c-48fb-4467-9e49-7c64fbf6439f",
      "cell_type": "markdown",
      "source": "# 4. 리스트, 생일 데이터, 같은 조 출력",
      "metadata": {}
    },
    {
      "id": "beba54d0-8515-4d19-8b28-9528dfc39aec",
      "cell_type": "code",
      "source": "import csv\n\nclass BidirectNode:\n    def __init__(self, x, prevNode:'BidirectNode', nextNode:'BidirectNode'):\n        self.item = x\n        self.prev = prevNode\n        self.next = nextNode\nclass CircularDoublyLinkedList:\n\tdef __init__(self):\n\t\tself.__head = BidirectNode(\"dummy\", None, None)\n\t\tself.__head.prev = self.__head\n\t\tself.__head.next = self.__head\n\t\tself.__numItems = 0\n \n\tdef insert(self, i:int, newItem) -> None:\n\t\tif (i >= 0 and i <= self.__numItems):\n\t\t\tprev = self.getNode(i - 1)\n\t\t\tnewNode = BidirectNode(newItem, prev, prev.next)\n\t\t\tnewNode.next.prev = newNode\n\t\t\tprev.next = newNode\n\t\t\tself.__numItems += 1\n\t\telse:\n\t\t\tprint(\"index\", i, \": out of bound in insert()\") # 필요 시 에러 처리\n\n\tdef append(self, newItem) -> None:\n\t\tprev = self.__head.prev\n\t\tnewNode = BidirectNode(newItem, prev, self.__head)\n\t\tprev.next = newNode\n\t\tself.__head.prev = newNode\n\t\tself.__numItems += 1\n\n\tdef pop(self, *args):\n\t\t# 가변 파라미터. 인자가 없거나 -1이면 마지막 원소로 처리하기 위함. 파이썬 리스트 규칙 만족\n\t\tif self.isEmpty():\n\t\t\treturn None\n\t\t# 인덱스 i 결정\n\t\tif len(args) != 0: # pop(k)과 같이 인자가 있으면 i = k 할당\n\t\t\ti = args[0]\n\t\tif len(args) == 0 or i == -1:# pop()에 인자가 없거나 pop(-1)이면 i에 맨 끝 인덱스 할당\n\t\t\ti = self.__numItems - 1\n\t\t# i번 원소 삭제\n\t\tif (i >= 0 and i <= self.__numItems - 1):\n\t\t\tcurr = self.getNode(i)\n\t\t\tretItem = curr.item\n\t\t\tcurr.prev.next = curr.next\n\t\t\tcurr.next.prev = curr.prev\n\t\t\tself.__numItems -= 1\n\t\t\treturn retItem\n\t\telse:\n\t\t\treturn None\n \n\tdef remove(self, x):\n\t\tcurr = self.__findNode(x)\n\t\tif curr != None:\n\t\t\tcurr.prev.next = curr.next\n\t\t\tcurr.next.prev = curr.prev\n\t\t\tself.__numItems -= 1\n\t\t\treturn x\n\t\telse:\n\t\t\treturn None\n\n\tdef get(self, *args):\n\t\t# 가변 파라미터. 인자가 없거나 -1이면 마지막 원소로 처리하기 위함. 파이썬 리스트 규칙 만족\n\t\tif self.isEmpty(): return None\n\t\t# 인덱스 i 결정\n\t\tif len(args) != 0:   # pop(k)과 같이 인자가 있으면 i = k 할당\n\t\t\ti = args[0]\n\t\tif len(args) == 0 or i == -1:# pop()에 인자가 없거나 pop(-1)이면 i에 맨 끝 인덱스 할당\n\t\t\ti = self.__numItems - 1\n\t\t# i번 원소 리턴\n\t\tif (i >= 0 and i <= self.__numItems - 1):\n\t\t\treturn self.getNode(i).item\n\t\telse:\n\t\t\treturn None\n \n\tdef index(self, x) -> int:\n\t\tcnt = 0\n\t\tfor element in self:\n\t\t\tif element == x:\n\t\t\t\treturn cnt\n\t\t\tcnt += 1\n\t\treturn -12345\n\n\tdef isEmpty(self) -> bool:\n\t\treturn self.__numItems == 0\n \n\tdef size(self) -> int:\n\t\treturn self.__numItems\n\n\tdef clear(self):\n\t\tself.__head = BidirectNode(\"dummy\", None, None)\n\t\tself.__head.prev = self.__head\n\t\tself.__head.next = self.__head\n\t\tself.__numItems = 0\n \n\tdef count(self, x) -> int:\n\t\tcnt = 0\n\t\tfor element in self:\n\t\t\tif element == x:\n\t\t\t\t\tcnt += 1\n\t\treturn cnt\n\n\tdef extend(self, a): # a는 순회 가능한 모든 객체\n\t\tfor element in a:\n\t\t\tself.append(element)\n\n\tdef copy(self) -> 'CircularDoublyLinkedList':\n\t\ta = CircularDoublyLinkedList()\n\t\tfor element in self:\n\t\t\ta.append(element)\n\t\treturn a\n \n\tdef reverse(self) -> None:\n\t\tprev = self.__head; curr = prev.next; next = curr.next\n\t\tself.__head.next = prev.prev; self.__head.prev = curr\n\t\tfor i in range(self.__numItems):\n\t\t\tcurr.next = prev; curr.prev = next\n\t\t\tprev = curr; curr = next; next = next.next\n \n\tdef sort(self) -> None:\n\t\ta = []\n\t\tfor element in self:\n\t\t\ta.append(element)\n\t\ta.sort()\n\t\tself.clear()\n\t\tfor element in a:\n\t\t\tself.append(element)\n\n\tdef __findNode(self, x) -> BidirectNode:\n\t\tcurr = self.__head.next  # 0번 노드\n\t\twhile curr != self.__head:\n \n\t\t\tif curr.item == x:\n\t\t\t\treturn curr\n\t\t\telse:\n\t\t\t\tcurr = curr.next\n\t\treturn None\n\n\tdef getNode(self, i:int) -> BidirectNode:\n\t\tcurr = self.__head  # 더미 헤드, index: -1\n\t\tfor index in range(i + 1):\n\t\t\tcurr = curr.next\n\t\treturn curr\n\n\tdef printList(self) -> None:\n\t\tfor element in self:\n\t\t\tprint(element, end = ' ')\n\t\tprint()\n \n\tdef __iter__(self):  # generating iterator and return\n\t\treturn CircularDoublyLinkedListIterator(self)\n \nclass CircularDoublyLinkedListIterator:\n\tdef __init__(self, alist):\n\t\tself.__head = alist.getNode(-1)  \t\t# 더미 헤드\n\t\tself.iterPosition = self.__head.next  \t# 0번 노드\n\tdef __next__(self):\n\t\tif self.iterPosition == self.__head: \t# 순환 끝\n\t\t\traise StopIteration\n\t\telse: # 현재 원소를 리턴하면서 다음 원소로 이동\n\t\t\titem = self.iterPosition.item\n\t\t\tself.iterPosition = self.iterPosition.next\n\t\t\treturn item\n\nif __name__ == \"__main__\":\n\tlist=CircularDoublyLinkedList()\n\nteam_names=[\"조예진\",\"김주영\",\"오다현\",\"이진서\",\"김여원\",\"김수련\",\"김민영\",\"윤서영\",\"허재희\",\"김다연\",\"안소형\",\"주민진\",\"김도경\",\"홍지연\",\"김채린\"]\n\nwith open(\"Birthdaydata.csv\", newline='', encoding='cp949')\tas csvfile:\n\treader=csv.reader(csvfile)\n\tnext(reader)\n\n\tfor row in reader:\n\t\tstudent_id, name, birth_str=row\n\t\tif name.strip() in team_names:\n\t\t\tprint(f\"이름:{name}, 생일 {birth_str}\")",
      "metadata": {
        "trusted": true
      },
      "outputs": [],
      "execution_count": null
    },
    {
      "id": "8993c65b-d24f-4a37-88a5-bb8e90f5bb71",
      "cell_type": "markdown",
      "source": "# 5. 우선 순위 큐 연습문제",
      "metadata": {}
    },
    {
      "id": "55fd1e9e-7edf-4e54-a0b5-3cb1795f42e7",
      "cell_type": "markdown",
      "source": "1. 가질 수 있다. 부모-자식 관계에서만 대소를 비교하기 때문에 전체 노드 간의 비교는 아니다\n\n2. 그렇지 않다\n\n3. n-(n/2)\n\n4. 최선 Θ(1), 최악 Θ(log n)\n\n5. 실제 테스트에선 간단한 일이다 배열을 사용하기 때문에 마지막에 위치하기 때문에 O(1)의 시간복잡도를 가진다\n\n6. 스며오르기의 방식은 O(nlogn)의 시간복잡도를 가진다. 각 삽입마다 최대 log n번 비교할 수 있으며 총 n개의 원소를 가짐\n스며내리기는 비교횟수가 더 적기 때문에 O(n)의 시간 복잡도를 가진다 아래쪽부터 시작해서 스며내리는 방식이 더 효율적이다\n\n7. 스며오르기의 방식으로 값을 증가시킨 원소가 부모의 노드보다 값이 클 때 교환하며 루트까지 도달하거나 부모보다 작아질 때까지 반복한다. 시간복잡도는 O(log n)이다",
      "metadata": {}
    },
    {
      "id": "d12d08c4-ab6d-4198-847b-ae192a444305",
      "cell_type": "markdown",
      "source": "# 6. LeetCode 703",
      "metadata": {}
    },
    {
      "id": "22e9699f-9985-4303-a5d7-a869ba533f39",
      "cell_type": "code",
      "source": "import heapq\n\nclass KthLargest(object):\n\n    def __init__(self, k, nums):\n        self.k=k\n        self.heap=nums\n        heapq.heapify(self.heap)\n\n        while len(self.heap)<k:\n            heapq.heappop(self.heap)\n\n    def add(self, val):\n        if len(self.heap)<self.k:\n            heapq.heappush(self.heap, val)\n        elif val>self.heap[0]:\n            heapq.heappushpop(self.heap,val)\n        return self.heap[0]",
      "metadata": {
        "trusted": true
      },
      "outputs": [],
      "execution_count": null
    }
  ]
}